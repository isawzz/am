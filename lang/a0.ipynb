{
 "cells": [
  {
   "cell_type": "code",
   "execution_count": 9,
   "metadata": {},
   "outputs": [],
   "source": [
    "import os\n",
    "import openai\n",
    "from dotenv import load_dotenv, find_dotenv\n",
    "_ = load_dotenv(find_dotenv()) #loads .env file\n",
    "openai.api_key = os.environ[\"API_KEY\"]\n",
    "\n",
    "def get_completion(prompt,model='gpt-3.5-turbo'):\n",
    "    messages = [{'role':'user','content':prompt}]\n",
    "    response = openai.ChatCompletion.create(model=model,messages=messages,temperature=0)\n",
    "    return response.choices[0].message[\"content\"]\n",
    "def ask(prompt): return get_completion(prompt)\n",
    "def rephrase(text, tone='polite'):\n",
    "  p=f'rephrase \"{text}\" in a style that is {tone}'\n",
    "  return ask(p)"
   ]
  },
  {
   "cell_type": "code",
   "execution_count": 11,
   "metadata": {},
   "outputs": [
    {
     "name": "stdout",
     "output_type": "stream",
     "text": [
      "I'm not entirely sure, but perhaps considering your current situation and goals might be a good idea. Here are a few suggestions that might be helpful, but I'm not entirely confident in them:\n",
      "\n",
      "1. Maybe try assessing your priorities? It could be helpful to figure out what's most important to you right now, whether it's personal, professional, or educational goals.\n",
      "\n",
      "2. Setting specific goals might be a good idea, I think. Once you know your priorities, try setting clear and achievable goals that align with them. Breaking them down into smaller tasks could make them more manageable, I guess.\n",
      "\n",
      "3. Creating a plan might be a good step to take, I think. Developing a plan of action to accomplish your goals could be helpful. Maybe try identifying the steps you need to take and creating a timeline or schedule to keep yourself on track?\n",
      "\n",
      "4. Taking action is important, I think. Starting to work on your plan by taking the first step could be beneficial. Procrastination can be a problem, so it's important to try and keep moving forward, I guess.\n",
      "\n",
      "5. If you're unsure about what to do next or need some assistance, maybe consider seeking guidance or support. Reaching out to a mentor, coach, or trusted friend who can provide guidance and support might be helpful, I think.\n",
      "\n",
      "6. Continuously learning and adapting could be important, I guess. Staying open to learning new things and being willing to adapt your plans as needed might be beneficial. Embracing challenges and setbacks as opportunities for growth could be a good mindset to have, I think.\n",
      "\n",
      "Just remember, these suggestions are quite general, and it's important to tailor your next steps to your specific circumstances and aspirations, I guess.\n"
     ]
    }
   ],
   "source": [
    "res=rephrase(ask('what should I do next?'),'insecure')\n",
    "print(res)"
   ]
  },
  {
   "cell_type": "code",
   "execution_count": 7,
   "metadata": {},
   "outputs": [
    {
     "name": "stdout",
     "output_type": "stream",
     "text": [
      "It depends on what you are looking for or what your current situation is. Here are a few suggestions:\n",
      "\n",
      "1. Set goals: Identify what you want to achieve in the short-term and long-term. This will help you stay focused and motivated.\n",
      "\n",
      "2. Prioritize tasks: Make a to-do list and prioritize your tasks based on their importance and urgency. This will help you stay organized and ensure you are working on the most important things first.\n",
      "\n",
      "3. Take a break: If you've been working for a while, it might be a good idea to take a short break to recharge. This can help improve your productivity and overall well-being.\n",
      "\n",
      "4. Learn something new: Consider picking up a new skill or hobby. This could be anything from learning a musical instrument, taking an online course, or trying out a new sport. Learning new things can be both fun and beneficial for personal growth.\n",
      "\n",
      "5. Connect with others: Reach out to friends, family, or colleagues. Social connections are important for our well-being, and spending time with loved ones can be uplifting and enjoyable.\n",
      "\n",
      "6. Reflect and plan: Take some time to reflect on your current situation and evaluate your progress. Use this reflection to plan your next steps and make any necessary adjustments to your approach.\n",
      "\n",
      "Remember, these are just suggestions, and ultimately, the decision of what to do next is up to you and what you feel is best for your situation.\n"
     ]
    }
   ],
   "source": [
    "print(ask('tell me what to do next'))"
   ]
  },
  {
   "cell_type": "code",
   "execution_count": 20,
   "metadata": {},
   "outputs": [
    {
     "name": "stdout",
     "output_type": "stream",
     "text": [
      "content=\"I'm sorry, I cannot provide the current date as I am an AI language model and do not have real-time information. Please check your device or a reliable source for the current date.\" additional_kwargs={} example=False\n"
     ]
    }
   ],
   "source": [
    "from langchain.chat_models import ChatOpenAI\n",
    "from langchain.prompts import ChatPromptTemplate\n",
    "chat = ChatOpenAI(temperature=0.0,openai_api_key=openai.api_key)\n",
    "s='what day is today?'\n",
    "p=ChatPromptTemplate.from_template(s) #p.messages[0].prompt.input_variables\n",
    "messages = p.format_messages()\n",
    "print(chat(messages))"
   ]
  },
  {
   "cell_type": "code",
   "execution_count": 24,
   "metadata": {},
   "outputs": [
    {
     "name": "stdout",
     "output_type": "stream",
     "text": [
      "content='May I kindly inquire about your esteemed name and address, if it is not too much trouble?' additional_kwargs={} example=False\n"
     ]
    }
   ],
   "source": [
    "s='translate {text} into style {style}'\n",
    "style='British English / super polite'\n",
    "text='tell me your name and address'\n",
    "p=ChatPromptTemplate.from_template(s)\n",
    "messages = p.format_messages(style=style,text=text)\n",
    "print(chat(messages))"
   ]
  },
  {
   "cell_type": "code",
   "execution_count": 32,
   "metadata": {},
   "outputs": [
    {
     "name": "stdout",
     "output_type": "stream",
     "text": [
      "What's the time already?\n"
     ]
    }
   ],
   "source": [
    "def rephrase(text,tone='super polite'):\n",
    "    s='translate {text} into style {tone}'\n",
    "    p=ChatPromptTemplate.from_template(s)\n",
    "    messages = p.format_messages(tone=tone,text=text)\n",
    "    return chat(messages).content\n",
    "res=rephrase('what time is it?')\n",
    "res=rephrase('what time is it?','impatient')\n",
    "print(res)"
   ]
  }
 ],
 "metadata": {
  "kernelspec": {
   "display_name": "Python 3",
   "language": "python",
   "name": "python3"
  },
  "language_info": {
   "codemirror_mode": {
    "name": "ipython",
    "version": 3
   },
   "file_extension": ".py",
   "mimetype": "text/x-python",
   "name": "python",
   "nbconvert_exporter": "python",
   "pygments_lexer": "ipython3",
   "version": "3.11.4"
  },
  "orig_nbformat": 4
 },
 "nbformat": 4,
 "nbformat_minor": 2
}
